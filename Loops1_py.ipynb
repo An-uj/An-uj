{
  "nbformat": 4,
  "nbformat_minor": 0,
  "metadata": {
    "colab": {
      "name": "Loops1.py",
      "provenance": [],
      "collapsed_sections": [],
      "authorship_tag": "ABX9TyP6heZVyWcw0L5SG9GqmtcB",
      "include_colab_link": true
    },
    "kernelspec": {
      "name": "python3",
      "display_name": "Python 3"
    },
    "language_info": {
      "name": "python"
    }
  },
  "cells": [
    {
      "cell_type": "markdown",
      "metadata": {
        "id": "view-in-github",
        "colab_type": "text"
      },
      "source": [
        "<a href=\"https://colab.research.google.com/github/An-uj/An-uj/blob/main/Loops1_py.ipynb\" target=\"_parent\"><img src=\"https://colab.research.google.com/assets/colab-badge.svg\" alt=\"Open In Colab\"/></a>"
      ]
    },
    {
      "cell_type": "code",
      "metadata": {
        "colab": {
          "base_uri": "https://localhost:8080/"
        },
        "id": "Yju6lMKbJqrt",
        "outputId": "b0656449-f7e8-40fd-d48a-47600d5a5656"
      },
      "source": [
        "#Q1:- Print the squares of elements in the given list\n",
        "list=[2,4,5,7,8,9,10,22]\n",
        "sqr=[]\n",
        "for i in range(len(list)):\n",
        "  e=list[i]*list[i]\n",
        "  sqr.append(e)\n",
        "print(sqr)"
      ],
      "execution_count": null,
      "outputs": [
        {
          "output_type": "stream",
          "name": "stdout",
          "text": [
            "[4, 16, 25, 49, 64, 81, 100, 484]\n"
          ]
        }
      ]
    },
    {
      "cell_type": "code",
      "metadata": {
        "colab": {
          "base_uri": "https://localhost:8080/"
        },
        "id": "OvL6Ffl93aMA",
        "outputId": "a8fb887c-1fbc-4107-9ef9-f942593c90c0"
      },
      "source": [
        "#Q2:- Print odd numbers between 1 to 100\n",
        "odd_num=[]\n",
        "for i in range(2,100):\n",
        "  if(i%2!=0):\n",
        "    odd_num.append(i)\n",
        "print(odd_num, sep=\"\")"
      ],
      "execution_count": null,
      "outputs": [
        {
          "output_type": "stream",
          "name": "stdout",
          "text": [
            "[3, 5, 7, 9, 11, 13, 15, 17, 19, 21, 23, 25, 27, 29, 31, 33, 35, 37, 39, 41, 43, 45, 47, 49, 51, 53, 55, 57, 59, 61, 63, 65, 67, 69, 71, 73, 75, 77, 79, 81, 83, 85, 87, 89, 91, 93, 95, 97, 99]\n"
          ]
        }
      ]
    },
    {
      "cell_type": "code",
      "metadata": {
        "colab": {
          "base_uri": "https://localhost:8080/"
        },
        "id": "vaTFSn5X4mEg",
        "outputId": "7e6804df-9516-4fb4-bf08-e6afcb9bf005"
      },
      "source": [
        "#Q3:- Draw the sum of elements of string given using loops\n",
        "str=\"1234567890\"\n",
        "res=0\n",
        "for i in range(len(str)):\n",
        "  res+=i\n",
        "print(\"The sum is\",res)"
      ],
      "execution_count": null,
      "outputs": [
        {
          "output_type": "stream",
          "name": "stdout",
          "text": [
            "The sum is 45\n"
          ]
        }
      ]
    },
    {
      "cell_type": "code",
      "metadata": {
        "colab": {
          "base_uri": "https://localhost:8080/"
        },
        "id": "vxzX98uf5lhJ",
        "outputId": "1003fdd3-4a45-45b2-987d-a78f77c62215"
      },
      "source": [
        "#Q4:- Design your own length function which takes list as a parameter and returns the number of items in list\n",
        "def my_len(my_list): \n",
        "  count=0\n",
        "  for i in my_list:\n",
        "    count+=1\n",
        "  return count\n",
        "list=[2,3,4,5,6,7,10]\n",
        "print(\"Length of list is\",my_len(list))\n",
        "dist=[1,2,4,\"Anuj\"]\n",
        "print(\"Length of list is\",my_len(dist))"
      ],
      "execution_count": null,
      "outputs": [
        {
          "output_type": "stream",
          "name": "stdout",
          "text": [
            "Length of list is 7\n",
            "Length of list is 4\n"
          ]
        }
      ]
    },
    {
      "cell_type": "code",
      "metadata": {
        "colab": {
          "base_uri": "https://localhost:8080/"
        },
        "id": "ZPcEQvrOKPIx",
        "outputId": "05b30537-e482-42d8-cead-6861aa3b3c58"
      },
      "source": [
        "#Q5:- Find the factorial of a user defined number\n",
        "j=int(input(\"Enter a number \"))\n",
        "fact=1\n",
        "for i in range(1,j):\n",
        "  fact=fact*(i+1)\n",
        "print(\"The factorial of\",j,\"is\",fact)"
      ],
      "execution_count": null,
      "outputs": [
        {
          "output_type": "stream",
          "name": "stdout",
          "text": [
            "Enter a number 6\n",
            "The factorial of 6 is 720\n"
          ]
        }
      ]
    },
    {
      "cell_type": "code",
      "metadata": {
        "id": "bo1804WUOG_o",
        "colab": {
          "base_uri": "https://localhost:8080/"
        },
        "outputId": "c85b65fd-f524-4783-d673-b926db96fff0"
      },
      "source": [
        "#Q6:- Design your own count function and determine the no. of times a number is present in a list\n",
        "def my_count(num):\n",
        "  c=0\n",
        "  list=[2,3,4,5,6,2,3,4,2,3,4,2]\n",
        "  for i in list:\n",
        "    if(i==num):\n",
        "      c=c+1\n",
        "  return c\n",
        "num=int(input('Enter the number to be counted:- '))\n",
        "j=my_count(num)\n",
        "print('Count of',num,'in the list is',j)"
      ],
      "execution_count": null,
      "outputs": [
        {
          "output_type": "stream",
          "name": "stdout",
          "text": [
            "Enter the number to be counted:- 4\n",
            "Count of 4 in the list is 3\n"
          ]
        }
      ]
    },
    {
      "cell_type": "code",
      "metadata": {
        "colab": {
          "base_uri": "https://localhost:8080/"
        },
        "id": "zFAdAmuesXx1",
        "outputId": "320cfeac-1b68-447c-dc94-715c03fc6fab"
      },
      "source": [
        "#Q7:- Design your own lower function which converts upper case into lower case using loops\n",
        "def my_lower(upper):\n",
        "  lower=''\n",
        "  for i in upper:\n",
        "    u=32+ord(i)\n",
        "    l=chr(u)\n",
        "    lower+=l\n",
        "  return lower\n",
        "upper=input(\"Enter your name in capitals:- \").strip()\n",
        "k=my_lower(upper)\n",
        "print('In lower case:-',k)"
      ],
      "execution_count": null,
      "outputs": [
        {
          "output_type": "stream",
          "name": "stdout",
          "text": [
            "Enter your name in capitals:- ANUJ\n",
            "In lower case:- anuj\n"
          ]
        }
      ]
    },
    {
      "cell_type": "code",
      "metadata": {
        "colab": {
          "base_uri": "https://localhost:8080/"
        },
        "id": "TxNquvK88uOB",
        "outputId": "77cdf3a3-9fb7-4b2c-ecad-5a7df121bd7b"
      },
      "source": [
        "#Q8:-Take a number as input from the user and print whether the number is a prime or not?\n",
        "num=int(input(\"Enter a number:- \"))\n",
        "flag=False #defined a flag variable\n",
        "if num>1: #since a prime starts from 2 so giving condition\n",
        "  for i in range(2,num): #looping from 2 to the user defined number\n",
        "    if(num%i==0): \n",
        "      flag=True\n",
        "      break\n",
        "  if flag:\n",
        "    print(num,'is not a prime number')\n",
        "  else:\n",
        "    print(num,'is a prime number')"
      ],
      "execution_count": null,
      "outputs": [
        {
          "output_type": "stream",
          "name": "stdout",
          "text": [
            "Enter a number:- 101\n",
            "101 is a prime number\n"
          ]
        }
      ]
    },
    {
      "cell_type": "code",
      "metadata": {
        "colab": {
          "base_uri": "https://localhost:8080/"
        },
        "id": "e_8RJ_4UBO1d",
        "outputId": "fec06be5-1fb2-4b60-e45f-6879be1f4c26"
      },
      "source": [
        "#Q9:- Print the following pattern\n",
        "\"\"\"\n",
        "    *\n",
        "   * *\n",
        "  * * *\n",
        " * * * *\n",
        "* * * * * \"\"\"\n",
        "rows=int(input(\"Enter no. of rows:- \"))\n",
        "for i in range(rows):\n",
        "  for j in range(rows-i-1):\n",
        "    print(' ',end='')\n",
        "  for k in range(i+1):\n",
        "    print('* ', end='')\n",
        "  print()"
      ],
      "execution_count": null,
      "outputs": [
        {
          "output_type": "stream",
          "name": "stdout",
          "text": [
            "Enter no. of rows:- 5\n",
            "    * \n",
            "   * * \n",
            "  * * * \n",
            " * * * * \n",
            "* * * * * \n"
          ]
        }
      ]
    },
    {
      "cell_type": "code",
      "metadata": {
        "colab": {
          "base_uri": "https://localhost:8080/"
        },
        "id": "kqgIuz_vRoMj",
        "outputId": "c251e42e-ca89-48d5-ca6a-61c650a3f7b8"
      },
      "source": [
        "#Q10:- Print the following pattern\n",
        "\"\"\"\n",
        "* * * * *\n",
        " * * * *\n",
        "  * * *\n",
        "   * *\n",
        "    *\n",
        "   * * \n",
        "  * * *\n",
        " * * * *\n",
        "* * * * * \"\"\"\n",
        "rows=int(input(\"Enter no. of rows:- \"))\n",
        "for i in range(rows):\n",
        "  for j in range(i):\n",
        "    print('',end=' ')\n",
        "  for k in range(rows-i):\n",
        "    print('*',end=' ')\n",
        "  print()\n",
        "for s in range(rows):\n",
        "  for t in range(rows-s-1):\n",
        "    print('',end=' ')\n",
        "  for u in range(s+1):\n",
        "    print('*',end=' ')\n",
        "  print()"
      ],
      "execution_count": null,
      "outputs": [
        {
          "output_type": "stream",
          "name": "stdout",
          "text": [
            "Enter no. of rows:- 6\n",
            "* * * * * * \n",
            " * * * * * \n",
            "  * * * * \n",
            "   * * * \n",
            "    * * \n",
            "     * \n",
            "     * \n",
            "    * * \n",
            "   * * * \n",
            "  * * * * \n",
            " * * * * * \n",
            "* * * * * * \n"
          ]
        }
      ]
    }
  ]
}